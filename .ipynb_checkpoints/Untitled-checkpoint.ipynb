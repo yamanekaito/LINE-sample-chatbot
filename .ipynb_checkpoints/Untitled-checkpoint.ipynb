{
 "cells": [
  {
   "cell_type": "code",
   "execution_count": 12,
   "id": "39c7a5c7-9e6b-430f-85ac-b645e03634a5",
   "metadata": {},
   "outputs": [
    {
     "name": "stdout",
     "output_type": "stream",
     "text": [
      "Requirement already satisfied: line-bot-sdk in /Users/yamanekaito/opt/anaconda3/lib/python3.9/site-packages (2.2.1)\n",
      "Requirement already satisfied: future in /Users/yamanekaito/opt/anaconda3/lib/python3.9/site-packages (from line-bot-sdk) (0.18.2)\n",
      "Requirement already satisfied: requests>=2.0 in /Users/yamanekaito/opt/anaconda3/lib/python3.9/site-packages (from line-bot-sdk) (2.27.1)\n",
      "Requirement already satisfied: aiohttp>=3.7.4 in /Users/yamanekaito/opt/anaconda3/lib/python3.9/site-packages (from line-bot-sdk) (3.8.1)\n",
      "Requirement already satisfied: async-timeout<5.0,>=4.0.0a3 in /Users/yamanekaito/opt/anaconda3/lib/python3.9/site-packages (from aiohttp>=3.7.4->line-bot-sdk) (4.0.1)\n",
      "Requirement already satisfied: yarl<2.0,>=1.0 in /Users/yamanekaito/opt/anaconda3/lib/python3.9/site-packages (from aiohttp>=3.7.4->line-bot-sdk) (1.6.3)\n",
      "Requirement already satisfied: aiosignal>=1.1.2 in /Users/yamanekaito/opt/anaconda3/lib/python3.9/site-packages (from aiohttp>=3.7.4->line-bot-sdk) (1.2.0)\n",
      "Requirement already satisfied: multidict<7.0,>=4.5 in /Users/yamanekaito/opt/anaconda3/lib/python3.9/site-packages (from aiohttp>=3.7.4->line-bot-sdk) (5.2.0)\n",
      "Requirement already satisfied: frozenlist>=1.1.1 in /Users/yamanekaito/opt/anaconda3/lib/python3.9/site-packages (from aiohttp>=3.7.4->line-bot-sdk) (1.2.0)\n",
      "Requirement already satisfied: attrs>=17.3.0 in /Users/yamanekaito/opt/anaconda3/lib/python3.9/site-packages (from aiohttp>=3.7.4->line-bot-sdk) (21.4.0)\n",
      "Requirement already satisfied: charset-normalizer<3.0,>=2.0 in /Users/yamanekaito/opt/anaconda3/lib/python3.9/site-packages (from aiohttp>=3.7.4->line-bot-sdk) (2.0.4)\n",
      "Requirement already satisfied: typing-extensions>=3.6.5 in /Users/yamanekaito/opt/anaconda3/lib/python3.9/site-packages (from async-timeout<5.0,>=4.0.0a3->aiohttp>=3.7.4->line-bot-sdk) (4.1.1)\n",
      "Requirement already satisfied: idna<4,>=2.5 in /Users/yamanekaito/opt/anaconda3/lib/python3.9/site-packages (from requests>=2.0->line-bot-sdk) (3.3)\n",
      "Requirement already satisfied: certifi>=2017.4.17 in /Users/yamanekaito/opt/anaconda3/lib/python3.9/site-packages (from requests>=2.0->line-bot-sdk) (2021.10.8)\n",
      "Requirement already satisfied: urllib3<1.27,>=1.21.1 in /Users/yamanekaito/opt/anaconda3/lib/python3.9/site-packages (from requests>=2.0->line-bot-sdk) (1.26.9)\n"
     ]
    }
   ],
   "source": [
    "!pip install line-bot-sdk"
   ]
  },
  {
   "cell_type": "code",
   "execution_count": 2,
   "id": "17feeb15-b306-4b76-8322-541ce38ae463",
   "metadata": {},
   "outputs": [],
   "source": [
    "import json"
   ]
  },
  {
   "cell_type": "code",
   "execution_count": 13,
   "id": "063abbf6-155b-477d-9dd8-e6775963acb5",
   "metadata": {},
   "outputs": [],
   "source": [
    "file = open('ac.json','r')\n",
    "info = json.load(file)"
   ]
  },
  {
   "cell_type": "code",
   "execution_count": 14,
   "id": "5e3151d0-ea78-4fb6-bccd-506581196bb8",
   "metadata": {},
   "outputs": [
    {
     "data": {
      "text/plain": [
       "'uNPJhyhjjGBFTikVOsgusAKseKfgMkR7eIUhjYUmuHtsgPRQPjyXd26AuNKw+TDsxOtszBCLYTwEAGMupW3VmNLYK/NhYWsaXlJVsYRkOESLmaL2VU9UWpWBG/d2DG/5Nkp8b8qwRS9goG+2P9uLIAdB04t89/1O/w1cDnyilFU='"
      ]
     },
     "execution_count": 14,
     "metadata": {},
     "output_type": "execute_result"
    }
   ],
   "source": [
    "info['CHANNEL_ACCESS_TOKEN']"
   ]
  },
  {
   "cell_type": "code",
   "execution_count": 15,
   "id": "80f5e97a-aefa-43d5-8e63-68ce7cfcd522",
   "metadata": {},
   "outputs": [],
   "source": [
    "from linebot import LineBotApi\n",
    "from linebot.models import TextSendMessage"
   ]
  },
  {
   "cell_type": "code",
   "execution_count": 10,
   "id": "90462329-09d1-47f8-91f1-58c8cd98ff11",
   "metadata": {},
   "outputs": [],
   "source": [
    "CHANNEL_ACCESS_TOKEN = info['CHANNEL_ACCESS_TOKEN']\n",
    "line_bot_api = LineBotApi(CHANNEL_ACCESS_TOKEN)"
   ]
  },
  {
   "cell_type": "code",
   "execution_count": 2,
   "id": "c279ee7d-6aa7-41b0-b527-e05cc48b209a",
   "metadata": {},
   "outputs": [
    {
     "ename": "NameError",
     "evalue": "name 'info' is not defined",
     "output_type": "error",
     "traceback": [
      "\u001b[0;31m---------------------------------------------------------------------------\u001b[0m",
      "\u001b[0;31mNameError\u001b[0m                                 Traceback (most recent call last)",
      "Input \u001b[0;32mIn [2]\u001b[0m, in \u001b[0;36m<cell line: 6>\u001b[0;34m()\u001b[0m\n\u001b[1;32m      4\u001b[0m     line_bot_api\u001b[38;5;241m.\u001b[39mpush_message(USER_ID,messages\u001b[38;5;241m=\u001b[39mmessages)\n\u001b[1;32m      6\u001b[0m \u001b[38;5;28;01mif\u001b[39;00m \u001b[38;5;18m__name__\u001b[39m \u001b[38;5;241m==\u001b[39m\u001b[38;5;124m\"\u001b[39m\u001b[38;5;124m__main__\u001b[39m\u001b[38;5;124m\"\u001b[39m:\n\u001b[0;32m----> 7\u001b[0m     main();pya\n",
      "Input \u001b[0;32mIn [2]\u001b[0m, in \u001b[0;36mmain\u001b[0;34m()\u001b[0m\n\u001b[1;32m      1\u001b[0m \u001b[38;5;28;01mdef\u001b[39;00m \u001b[38;5;21mmain\u001b[39m():\n\u001b[0;32m----> 2\u001b[0m     USER_ID \u001b[38;5;241m=\u001b[39m \u001b[43minfo\u001b[49m[\u001b[38;5;124m'\u001b[39m\u001b[38;5;124mUSER_ID\u001b[39m\u001b[38;5;124m'\u001b[39m]\n\u001b[1;32m      3\u001b[0m     messages \u001b[38;5;241m=\u001b[39m TextSendMessage(text\u001b[38;5;241m=\u001b[39m \u001b[38;5;124m\"\u001b[39m\u001b[38;5;124mチャンネル名が変更しました\u001b[39m\u001b[38;5;124m\"\u001b[39m)\n\u001b[1;32m      4\u001b[0m     line_bot_api\u001b[38;5;241m.\u001b[39mpush_message(USER_ID,messages\u001b[38;5;241m=\u001b[39mmessages)\n",
      "\u001b[0;31mNameError\u001b[0m: name 'info' is not defined"
     ]
    }
   ],
   "source": [
    "def main():\n",
    "    USER_ID = info['USER_ID']\n",
    "    messages = TextSendMessage(text= \"チャンネル名が変更しました\")\n",
    "    line_bot_api.push_message(USER_ID,messages=messages)\n",
    "\n",
    "if __name__ ==\"__main__\":\n",
    "    main();pya\n",
    "    "
   ]
  },
  {
   "cell_type": "code",
   "execution_count": null,
   "id": "b41cfa05-cbec-4cff-a5f7-1a4ba3374790",
   "metadata": {},
   "outputs": [],
   "source": []
  }
 ],
 "metadata": {
  "kernelspec": {
   "display_name": "Python 3 (ipykernel)",
   "language": "python",
   "name": "python3"
  },
  "language_info": {
   "codemirror_mode": {
    "name": "ipython",
    "version": 3
   },
   "file_extension": ".py",
   "mimetype": "text/x-python",
   "name": "python",
   "nbconvert_exporter": "python",
   "pygments_lexer": "ipython3",
   "version": "3.9.12"
  }
 },
 "nbformat": 4,
 "nbformat_minor": 5
}
